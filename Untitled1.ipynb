{
 "cells": [
  {
   "cell_type": "code",
   "execution_count": 1,
   "metadata": {},
   "outputs": [],
   "source": [
    "import pickle"
   ]
  },
  {
   "cell_type": "code",
   "execution_count": 3,
   "metadata": {},
   "outputs": [],
   "source": [
    "filename = '/Users/gracer/Google Drive/ABCD/important_txt/data.pickle'\n",
    "# with open(filename, 'wb') as handle:\n",
    "#     pickle.dump(all_vars, handle, protocol=pickle.HIGHEST_PROTOCOL)\n",
    "\n",
    "with open(filename, 'rb') as handle:\n",
    "    b = pickle.load(handle)\n",
    "\n",
    "# print all_vars == b"
   ]
  },
  {
   "cell_type": "code",
   "execution_count": 4,
   "metadata": {},
   "outputs": [
    {
     "ename": "AttributeError",
     "evalue": "'dict' object has no attribute 'shape'",
     "output_type": "error",
     "traceback": [
      "\u001b[0;31m---------------------------------------------------------------------------\u001b[0m",
      "\u001b[0;31mAttributeError\u001b[0m                            Traceback (most recent call last)",
      "\u001b[0;32m<ipython-input-4-82ed078d10e8>\u001b[0m in \u001b[0;36m<module>\u001b[0;34m()\u001b[0m\n\u001b[0;32m----> 1\u001b[0;31m \u001b[0mb\u001b[0m\u001b[0;34m.\u001b[0m\u001b[0mshape\u001b[0m\u001b[0;34m\u001b[0m\u001b[0m\n\u001b[0m",
      "\u001b[0;31mAttributeError\u001b[0m: 'dict' object has no attribute 'shape'"
     ]
    }
   ],
   "source": [
    "b.shape"
   ]
  },
  {
   "cell_type": "code",
   "execution_count": 7,
   "metadata": {},
   "outputs": [
    {
     "data": {
      "text/plain": [
       "['All_comp',\n",
       " ' All_lev1Ratio',\n",
       " 'All_index',\n",
       " 'All_var_ratio',\n",
       " 'All_labels',\n",
       " 'kmeans',\n",
       " 'All_lev2Ratio',\n",
       " 'names',\n",
       " 'All_clust',\n",
       " ' All_lev3Ratio',\n",
       " 'All_data',\n",
       " 'All_clust_space']"
      ]
     },
     "execution_count": 7,
     "metadata": {},
     "output_type": "execute_result"
    }
   ],
   "source": [
    "b.keys()"
   ]
  },
  {
   "cell_type": "code",
   "execution_count": 8,
   "metadata": {},
   "outputs": [
    {
     "data": {
      "text/plain": [
       "['pds_ht2_y',\n",
       " 'pds_skin2_y',\n",
       " 'pds_bdyhair_y',\n",
       " 'pds_f4_2_y',\n",
       " 'pds_f5_y',\n",
       " 'interview_age',\n",
       " 'anthroheightcalc',\n",
       " 'anthroweightcalc',\n",
       " 'anthro_waist_cm',\n",
       " 'hormone_scr_dhea_mean',\n",
       " 'hormone_scr_hse_mean',\n",
       " 'hormone_scr_ert_mean',\n",
       " 'labels_pred',\n",
       " 'labels_true']"
      ]
     },
     "execution_count": 8,
     "metadata": {},
     "output_type": "execute_result"
    }
   ],
   "source": [
    "b['names']"
   ]
  },
  {
   "cell_type": "code",
   "execution_count": null,
   "metadata": {},
   "outputs": [],
   "source": []
  }
 ],
 "metadata": {
  "kernelspec": {
   "display_name": "Python 2",
   "language": "python",
   "name": "python2"
  },
  "language_info": {
   "codemirror_mode": {
    "name": "ipython",
    "version": 2
   },
   "file_extension": ".py",
   "mimetype": "text/x-python",
   "name": "python",
   "nbconvert_exporter": "python",
   "pygments_lexer": "ipython2",
   "version": "2.7.14"
  }
 },
 "nbformat": 4,
 "nbformat_minor": 2
}
