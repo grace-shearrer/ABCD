{
 "cells": [
  {
   "cell_type": "code",
   "execution_count": 21,
   "metadata": {},
   "outputs": [],
   "source": [
    "import numpy as np\n",
    "from sklearn.cluster import KMeans\n",
    "import pandas as pd\n",
    "from mpl_toolkits.mplot3d import Axes3D\n",
    "from sklearn.preprocessing import scale\n",
    "\n",
    "import sklearn.metrics as sm\n",
    "from sklearn.metrics import confusion_matrix\n",
    "import matplotlib.pyplot as plt\n",
    "import matplotlib\n",
    "from sklearn import datasets\n",
    "from sklearn.preprocessing import Imputer\n",
    "\n",
    "import seaborn as sns"
   ]
  },
  {
   "cell_type": "code",
   "execution_count": 22,
   "metadata": {},
   "outputs": [
    {
     "name": "stdout",
     "output_type": "stream",
     "text": [
      "/Users/gracer/Google Drive/ABCD\r\n"
     ]
    }
   ],
   "source": [
    "!pwd"
   ]
  },
  {
   "cell_type": "code",
   "execution_count": 39,
   "metadata": {},
   "outputs": [],
   "source": [
    "data=pd.read_table('important_txt/4Kmeans.csv', sep=',')"
   ]
  },
  {
   "cell_type": "code",
   "execution_count": 40,
   "metadata": {
    "scrolled": true
   },
   "outputs": [
    {
     "data": {
      "text/html": [
       "<div>\n",
       "<style>\n",
       "    .dataframe thead tr:only-child th {\n",
       "        text-align: right;\n",
       "    }\n",
       "\n",
       "    .dataframe thead th {\n",
       "        text-align: left;\n",
       "    }\n",
       "\n",
       "    .dataframe tbody tr th {\n",
       "        vertical-align: top;\n",
       "    }\n",
       "</style>\n",
       "<table border=\"1\" class=\"dataframe\">\n",
       "  <thead>\n",
       "    <tr style=\"text-align: right;\">\n",
       "      <th></th>\n",
       "      <th>src_subject_id</th>\n",
       "      <th>pds_ht2_y</th>\n",
       "      <th>pds_skin2_y</th>\n",
       "      <th>pds_bdyhair_y</th>\n",
       "      <th>PDS</th>\n",
       "      <th>pds_f4_2_y</th>\n",
       "      <th>pds_f5_y</th>\n",
       "      <th>pds_m4_y</th>\n",
       "      <th>pds_m5_y</th>\n",
       "      <th>interview_age</th>\n",
       "      <th>gender</th>\n",
       "      <th>anthroheightcalc</th>\n",
       "      <th>anthroweightcalc</th>\n",
       "      <th>anthro_waist_cm</th>\n",
       "      <th>hormone_scr_dhea_mean</th>\n",
       "      <th>hormone_scr_hse_mean</th>\n",
       "      <th>hormone_scr_ert_mean</th>\n",
       "      <th>sex</th>\n",
       "    </tr>\n",
       "  </thead>\n",
       "  <tbody>\n",
       "    <tr>\n",
       "      <th>0</th>\n",
       "      <td>NDAR_INV00X2TBWJ</td>\n",
       "      <td>1</td>\n",
       "      <td>1</td>\n",
       "      <td>1</td>\n",
       "      <td>1.0</td>\n",
       "      <td>1.0</td>\n",
       "      <td>1.0</td>\n",
       "      <td>0.0</td>\n",
       "      <td>0.0</td>\n",
       "      <td>130</td>\n",
       "      <td>F</td>\n",
       "      <td>54.500000</td>\n",
       "      <td>68.500000</td>\n",
       "      <td>22.25</td>\n",
       "      <td>1089</td>\n",
       "      <td>1.0450</td>\n",
       "      <td>16.6165</td>\n",
       "      <td>1</td>\n",
       "    </tr>\n",
       "    <tr>\n",
       "      <th>1</th>\n",
       "      <td>NDAR_INV028D3ELL</td>\n",
       "      <td>3</td>\n",
       "      <td>3</td>\n",
       "      <td>1</td>\n",
       "      <td>1.8</td>\n",
       "      <td>1.0</td>\n",
       "      <td>1.0</td>\n",
       "      <td>0.0</td>\n",
       "      <td>0.0</td>\n",
       "      <td>109</td>\n",
       "      <td>F</td>\n",
       "      <td>57.500000</td>\n",
       "      <td>72.000000</td>\n",
       "      <td>23.50</td>\n",
       "      <td>667</td>\n",
       "      <td>1.3000</td>\n",
       "      <td>39.3810</td>\n",
       "      <td>1</td>\n",
       "    </tr>\n",
       "    <tr>\n",
       "      <th>2</th>\n",
       "      <td>NDAR_INV02H7G2T6</td>\n",
       "      <td>3</td>\n",
       "      <td>1</td>\n",
       "      <td>2</td>\n",
       "      <td>1.8</td>\n",
       "      <td>2.0</td>\n",
       "      <td>1.0</td>\n",
       "      <td>0.0</td>\n",
       "      <td>0.0</td>\n",
       "      <td>119</td>\n",
       "      <td>F</td>\n",
       "      <td>58.950000</td>\n",
       "      <td>96.600000</td>\n",
       "      <td>30.00</td>\n",
       "      <td>1528</td>\n",
       "      <td>1.1200</td>\n",
       "      <td>36.1655</td>\n",
       "      <td>1</td>\n",
       "    </tr>\n",
       "    <tr>\n",
       "      <th>3</th>\n",
       "      <td>NDAR_INV03NW0RKL</td>\n",
       "      <td>2</td>\n",
       "      <td>1</td>\n",
       "      <td>1</td>\n",
       "      <td>1.4</td>\n",
       "      <td>2.0</td>\n",
       "      <td>1.0</td>\n",
       "      <td>0.0</td>\n",
       "      <td>0.0</td>\n",
       "      <td>119</td>\n",
       "      <td>F</td>\n",
       "      <td>54.833333</td>\n",
       "      <td>65.266667</td>\n",
       "      <td>21.80</td>\n",
       "      <td>214</td>\n",
       "      <td>1.3485</td>\n",
       "      <td>39.3290</td>\n",
       "      <td>1</td>\n",
       "    </tr>\n",
       "    <tr>\n",
       "      <th>4</th>\n",
       "      <td>NDAR_INV05T64PXD</td>\n",
       "      <td>3</td>\n",
       "      <td>2</td>\n",
       "      <td>2</td>\n",
       "      <td>2.0</td>\n",
       "      <td>2.0</td>\n",
       "      <td>1.0</td>\n",
       "      <td>0.0</td>\n",
       "      <td>0.0</td>\n",
       "      <td>109</td>\n",
       "      <td>F</td>\n",
       "      <td>59.200000</td>\n",
       "      <td>94.800000</td>\n",
       "      <td>26.40</td>\n",
       "      <td>1</td>\n",
       "      <td>NaN</td>\n",
       "      <td>NaN</td>\n",
       "      <td>1</td>\n",
       "    </tr>\n",
       "  </tbody>\n",
       "</table>\n",
       "</div>"
      ],
      "text/plain": [
       "     src_subject_id  pds_ht2_y  pds_skin2_y  pds_bdyhair_y  PDS  pds_f4_2_y  \\\n",
       "0  NDAR_INV00X2TBWJ          1            1              1  1.0         1.0   \n",
       "1  NDAR_INV028D3ELL          3            3              1  1.8         1.0   \n",
       "2  NDAR_INV02H7G2T6          3            1              2  1.8         2.0   \n",
       "3  NDAR_INV03NW0RKL          2            1              1  1.4         2.0   \n",
       "4  NDAR_INV05T64PXD          3            2              2  2.0         2.0   \n",
       "\n",
       "   pds_f5_y  pds_m4_y  pds_m5_y  interview_age gender  anthroheightcalc  \\\n",
       "0       1.0       0.0       0.0            130      F         54.500000   \n",
       "1       1.0       0.0       0.0            109      F         57.500000   \n",
       "2       1.0       0.0       0.0            119      F         58.950000   \n",
       "3       1.0       0.0       0.0            119      F         54.833333   \n",
       "4       1.0       0.0       0.0            109      F         59.200000   \n",
       "\n",
       "   anthroweightcalc  anthro_waist_cm  hormone_scr_dhea_mean  \\\n",
       "0         68.500000            22.25                   1089   \n",
       "1         72.000000            23.50                    667   \n",
       "2         96.600000            30.00                   1528   \n",
       "3         65.266667            21.80                    214   \n",
       "4         94.800000            26.40                      1   \n",
       "\n",
       "   hormone_scr_hse_mean  hormone_scr_ert_mean  sex  \n",
       "0                1.0450               16.6165    1  \n",
       "1                1.3000               39.3810    1  \n",
       "2                1.1200               36.1655    1  \n",
       "3                1.3485               39.3290    1  \n",
       "4                   NaN                   NaN    1  "
      ]
     },
     "execution_count": 40,
     "metadata": {},
     "output_type": "execute_result"
    }
   ],
   "source": [
    "data.head()"
   ]
  },
  {
   "cell_type": "code",
   "execution_count": 41,
   "metadata": {},
   "outputs": [],
   "source": [
    "dudes = data[data['sex'] >= 0]\n",
    "lady_dudes = data[data['sex'] >= 1]"
   ]
  },
  {
   "cell_type": "code",
   "execution_count": 42,
   "metadata": {},
   "outputs": [
    {
     "data": {
      "text/html": [
       "<div>\n",
       "<style>\n",
       "    .dataframe thead tr:only-child th {\n",
       "        text-align: right;\n",
       "    }\n",
       "\n",
       "    .dataframe thead th {\n",
       "        text-align: left;\n",
       "    }\n",
       "\n",
       "    .dataframe tbody tr th {\n",
       "        vertical-align: top;\n",
       "    }\n",
       "</style>\n",
       "<table border=\"1\" class=\"dataframe\">\n",
       "  <thead>\n",
       "    <tr style=\"text-align: right;\">\n",
       "      <th></th>\n",
       "      <th>src_subject_id</th>\n",
       "      <th>pds_ht2_y</th>\n",
       "      <th>pds_skin2_y</th>\n",
       "      <th>pds_bdyhair_y</th>\n",
       "      <th>PDS</th>\n",
       "      <th>pds_f4_2_y</th>\n",
       "      <th>pds_f5_y</th>\n",
       "      <th>pds_m4_y</th>\n",
       "      <th>pds_m5_y</th>\n",
       "      <th>interview_age</th>\n",
       "      <th>gender</th>\n",
       "      <th>anthroheightcalc</th>\n",
       "      <th>anthroweightcalc</th>\n",
       "      <th>anthro_waist_cm</th>\n",
       "      <th>hormone_scr_dhea_mean</th>\n",
       "      <th>hormone_scr_hse_mean</th>\n",
       "      <th>hormone_scr_ert_mean</th>\n",
       "      <th>sex</th>\n",
       "    </tr>\n",
       "  </thead>\n",
       "  <tbody>\n",
       "    <tr>\n",
       "      <th>0</th>\n",
       "      <td>NDAR_INV00X2TBWJ</td>\n",
       "      <td>1</td>\n",
       "      <td>1</td>\n",
       "      <td>1</td>\n",
       "      <td>1.0</td>\n",
       "      <td>1.0</td>\n",
       "      <td>1.0</td>\n",
       "      <td>0.0</td>\n",
       "      <td>0.0</td>\n",
       "      <td>130</td>\n",
       "      <td>F</td>\n",
       "      <td>54.500000</td>\n",
       "      <td>68.500000</td>\n",
       "      <td>22.25</td>\n",
       "      <td>1089</td>\n",
       "      <td>1.0450</td>\n",
       "      <td>16.6165</td>\n",
       "      <td>1</td>\n",
       "    </tr>\n",
       "    <tr>\n",
       "      <th>1</th>\n",
       "      <td>NDAR_INV028D3ELL</td>\n",
       "      <td>3</td>\n",
       "      <td>3</td>\n",
       "      <td>1</td>\n",
       "      <td>1.8</td>\n",
       "      <td>1.0</td>\n",
       "      <td>1.0</td>\n",
       "      <td>0.0</td>\n",
       "      <td>0.0</td>\n",
       "      <td>109</td>\n",
       "      <td>F</td>\n",
       "      <td>57.500000</td>\n",
       "      <td>72.000000</td>\n",
       "      <td>23.50</td>\n",
       "      <td>667</td>\n",
       "      <td>1.3000</td>\n",
       "      <td>39.3810</td>\n",
       "      <td>1</td>\n",
       "    </tr>\n",
       "    <tr>\n",
       "      <th>2</th>\n",
       "      <td>NDAR_INV02H7G2T6</td>\n",
       "      <td>3</td>\n",
       "      <td>1</td>\n",
       "      <td>2</td>\n",
       "      <td>1.8</td>\n",
       "      <td>2.0</td>\n",
       "      <td>1.0</td>\n",
       "      <td>0.0</td>\n",
       "      <td>0.0</td>\n",
       "      <td>119</td>\n",
       "      <td>F</td>\n",
       "      <td>58.950000</td>\n",
       "      <td>96.600000</td>\n",
       "      <td>30.00</td>\n",
       "      <td>1528</td>\n",
       "      <td>1.1200</td>\n",
       "      <td>36.1655</td>\n",
       "      <td>1</td>\n",
       "    </tr>\n",
       "    <tr>\n",
       "      <th>3</th>\n",
       "      <td>NDAR_INV03NW0RKL</td>\n",
       "      <td>2</td>\n",
       "      <td>1</td>\n",
       "      <td>1</td>\n",
       "      <td>1.4</td>\n",
       "      <td>2.0</td>\n",
       "      <td>1.0</td>\n",
       "      <td>0.0</td>\n",
       "      <td>0.0</td>\n",
       "      <td>119</td>\n",
       "      <td>F</td>\n",
       "      <td>54.833333</td>\n",
       "      <td>65.266667</td>\n",
       "      <td>21.80</td>\n",
       "      <td>214</td>\n",
       "      <td>1.3485</td>\n",
       "      <td>39.3290</td>\n",
       "      <td>1</td>\n",
       "    </tr>\n",
       "    <tr>\n",
       "      <th>4</th>\n",
       "      <td>NDAR_INV05T64PXD</td>\n",
       "      <td>3</td>\n",
       "      <td>2</td>\n",
       "      <td>2</td>\n",
       "      <td>2.0</td>\n",
       "      <td>2.0</td>\n",
       "      <td>1.0</td>\n",
       "      <td>0.0</td>\n",
       "      <td>0.0</td>\n",
       "      <td>109</td>\n",
       "      <td>F</td>\n",
       "      <td>59.200000</td>\n",
       "      <td>94.800000</td>\n",
       "      <td>26.40</td>\n",
       "      <td>1</td>\n",
       "      <td>NaN</td>\n",
       "      <td>NaN</td>\n",
       "      <td>1</td>\n",
       "    </tr>\n",
       "  </tbody>\n",
       "</table>\n",
       "</div>"
      ],
      "text/plain": [
       "     src_subject_id  pds_ht2_y  pds_skin2_y  pds_bdyhair_y  PDS  pds_f4_2_y  \\\n",
       "0  NDAR_INV00X2TBWJ          1            1              1  1.0         1.0   \n",
       "1  NDAR_INV028D3ELL          3            3              1  1.8         1.0   \n",
       "2  NDAR_INV02H7G2T6          3            1              2  1.8         2.0   \n",
       "3  NDAR_INV03NW0RKL          2            1              1  1.4         2.0   \n",
       "4  NDAR_INV05T64PXD          3            2              2  2.0         2.0   \n",
       "\n",
       "   pds_f5_y  pds_m4_y  pds_m5_y  interview_age gender  anthroheightcalc  \\\n",
       "0       1.0       0.0       0.0            130      F         54.500000   \n",
       "1       1.0       0.0       0.0            109      F         57.500000   \n",
       "2       1.0       0.0       0.0            119      F         58.950000   \n",
       "3       1.0       0.0       0.0            119      F         54.833333   \n",
       "4       1.0       0.0       0.0            109      F         59.200000   \n",
       "\n",
       "   anthroweightcalc  anthro_waist_cm  hormone_scr_dhea_mean  \\\n",
       "0         68.500000            22.25                   1089   \n",
       "1         72.000000            23.50                    667   \n",
       "2         96.600000            30.00                   1528   \n",
       "3         65.266667            21.80                    214   \n",
       "4         94.800000            26.40                      1   \n",
       "\n",
       "   hormone_scr_hse_mean  hormone_scr_ert_mean  sex  \n",
       "0                1.0450               16.6165    1  \n",
       "1                1.3000               39.3810    1  \n",
       "2                1.1200               36.1655    1  \n",
       "3                1.3485               39.3290    1  \n",
       "4                   NaN                   NaN    1  "
      ]
     },
     "execution_count": 42,
     "metadata": {},
     "output_type": "execute_result"
    }
   ],
   "source": [
    "lady_dudes.head()"
   ]
  },
  {
   "cell_type": "code",
   "execution_count": 43,
   "metadata": {},
   "outputs": [
    {
     "data": {
      "text/html": [
       "<div>\n",
       "<style>\n",
       "    .dataframe thead tr:only-child th {\n",
       "        text-align: right;\n",
       "    }\n",
       "\n",
       "    .dataframe thead th {\n",
       "        text-align: left;\n",
       "    }\n",
       "\n",
       "    .dataframe tbody tr th {\n",
       "        vertical-align: top;\n",
       "    }\n",
       "</style>\n",
       "<table border=\"1\" class=\"dataframe\">\n",
       "  <thead>\n",
       "    <tr style=\"text-align: right;\">\n",
       "      <th></th>\n",
       "      <th>src_subject_id</th>\n",
       "      <th>pds_ht2_y</th>\n",
       "      <th>pds_skin2_y</th>\n",
       "      <th>pds_bdyhair_y</th>\n",
       "      <th>PDS</th>\n",
       "      <th>pds_f4_2_y</th>\n",
       "      <th>pds_f5_y</th>\n",
       "      <th>pds_m4_y</th>\n",
       "      <th>pds_m5_y</th>\n",
       "      <th>interview_age</th>\n",
       "      <th>gender</th>\n",
       "      <th>anthroheightcalc</th>\n",
       "      <th>anthroweightcalc</th>\n",
       "      <th>anthro_waist_cm</th>\n",
       "      <th>hormone_scr_dhea_mean</th>\n",
       "      <th>hormone_scr_hse_mean</th>\n",
       "      <th>hormone_scr_ert_mean</th>\n",
       "      <th>sex</th>\n",
       "    </tr>\n",
       "  </thead>\n",
       "  <tbody>\n",
       "    <tr>\n",
       "      <th>0</th>\n",
       "      <td>NDAR_INV00X2TBWJ</td>\n",
       "      <td>1</td>\n",
       "      <td>1</td>\n",
       "      <td>1</td>\n",
       "      <td>1.0</td>\n",
       "      <td>1.0</td>\n",
       "      <td>1.0</td>\n",
       "      <td>0.0</td>\n",
       "      <td>0.0</td>\n",
       "      <td>130</td>\n",
       "      <td>F</td>\n",
       "      <td>54.500000</td>\n",
       "      <td>68.500000</td>\n",
       "      <td>22.25</td>\n",
       "      <td>1089</td>\n",
       "      <td>1.0450</td>\n",
       "      <td>16.6165</td>\n",
       "      <td>1</td>\n",
       "    </tr>\n",
       "    <tr>\n",
       "      <th>1</th>\n",
       "      <td>NDAR_INV028D3ELL</td>\n",
       "      <td>3</td>\n",
       "      <td>3</td>\n",
       "      <td>1</td>\n",
       "      <td>1.8</td>\n",
       "      <td>1.0</td>\n",
       "      <td>1.0</td>\n",
       "      <td>0.0</td>\n",
       "      <td>0.0</td>\n",
       "      <td>109</td>\n",
       "      <td>F</td>\n",
       "      <td>57.500000</td>\n",
       "      <td>72.000000</td>\n",
       "      <td>23.50</td>\n",
       "      <td>667</td>\n",
       "      <td>1.3000</td>\n",
       "      <td>39.3810</td>\n",
       "      <td>1</td>\n",
       "    </tr>\n",
       "    <tr>\n",
       "      <th>2</th>\n",
       "      <td>NDAR_INV02H7G2T6</td>\n",
       "      <td>3</td>\n",
       "      <td>1</td>\n",
       "      <td>2</td>\n",
       "      <td>1.8</td>\n",
       "      <td>2.0</td>\n",
       "      <td>1.0</td>\n",
       "      <td>0.0</td>\n",
       "      <td>0.0</td>\n",
       "      <td>119</td>\n",
       "      <td>F</td>\n",
       "      <td>58.950000</td>\n",
       "      <td>96.600000</td>\n",
       "      <td>30.00</td>\n",
       "      <td>1528</td>\n",
       "      <td>1.1200</td>\n",
       "      <td>36.1655</td>\n",
       "      <td>1</td>\n",
       "    </tr>\n",
       "    <tr>\n",
       "      <th>3</th>\n",
       "      <td>NDAR_INV03NW0RKL</td>\n",
       "      <td>2</td>\n",
       "      <td>1</td>\n",
       "      <td>1</td>\n",
       "      <td>1.4</td>\n",
       "      <td>2.0</td>\n",
       "      <td>1.0</td>\n",
       "      <td>0.0</td>\n",
       "      <td>0.0</td>\n",
       "      <td>119</td>\n",
       "      <td>F</td>\n",
       "      <td>54.833333</td>\n",
       "      <td>65.266667</td>\n",
       "      <td>21.80</td>\n",
       "      <td>214</td>\n",
       "      <td>1.3485</td>\n",
       "      <td>39.3290</td>\n",
       "      <td>1</td>\n",
       "    </tr>\n",
       "    <tr>\n",
       "      <th>4</th>\n",
       "      <td>NDAR_INV05T64PXD</td>\n",
       "      <td>3</td>\n",
       "      <td>2</td>\n",
       "      <td>2</td>\n",
       "      <td>2.0</td>\n",
       "      <td>2.0</td>\n",
       "      <td>1.0</td>\n",
       "      <td>0.0</td>\n",
       "      <td>0.0</td>\n",
       "      <td>109</td>\n",
       "      <td>F</td>\n",
       "      <td>59.200000</td>\n",
       "      <td>94.800000</td>\n",
       "      <td>26.40</td>\n",
       "      <td>1</td>\n",
       "      <td>NaN</td>\n",
       "      <td>NaN</td>\n",
       "      <td>1</td>\n",
       "    </tr>\n",
       "  </tbody>\n",
       "</table>\n",
       "</div>"
      ],
      "text/plain": [
       "     src_subject_id  pds_ht2_y  pds_skin2_y  pds_bdyhair_y  PDS  pds_f4_2_y  \\\n",
       "0  NDAR_INV00X2TBWJ          1            1              1  1.0         1.0   \n",
       "1  NDAR_INV028D3ELL          3            3              1  1.8         1.0   \n",
       "2  NDAR_INV02H7G2T6          3            1              2  1.8         2.0   \n",
       "3  NDAR_INV03NW0RKL          2            1              1  1.4         2.0   \n",
       "4  NDAR_INV05T64PXD          3            2              2  2.0         2.0   \n",
       "\n",
       "   pds_f5_y  pds_m4_y  pds_m5_y  interview_age gender  anthroheightcalc  \\\n",
       "0       1.0       0.0       0.0            130      F         54.500000   \n",
       "1       1.0       0.0       0.0            109      F         57.500000   \n",
       "2       1.0       0.0       0.0            119      F         58.950000   \n",
       "3       1.0       0.0       0.0            119      F         54.833333   \n",
       "4       1.0       0.0       0.0            109      F         59.200000   \n",
       "\n",
       "   anthroweightcalc  anthro_waist_cm  hormone_scr_dhea_mean  \\\n",
       "0         68.500000            22.25                   1089   \n",
       "1         72.000000            23.50                    667   \n",
       "2         96.600000            30.00                   1528   \n",
       "3         65.266667            21.80                    214   \n",
       "4         94.800000            26.40                      1   \n",
       "\n",
       "   hormone_scr_hse_mean  hormone_scr_ert_mean  sex  \n",
       "0                1.0450               16.6165    1  \n",
       "1                1.3000               39.3810    1  \n",
       "2                1.1200               36.1655    1  \n",
       "3                1.3485               39.3290    1  \n",
       "4                   NaN                   NaN    1  "
      ]
     },
     "execution_count": 43,
     "metadata": {},
     "output_type": "execute_result"
    }
   ],
   "source": [
    "dudes.head()"
   ]
  },
  {
   "cell_type": "code",
   "execution_count": 9,
   "metadata": {},
   "outputs": [],
   "source": [
    "#tried K means"
   ]
  },
  {
   "cell_type": "code",
   "execution_count": 103,
   "metadata": {},
   "outputs": [],
   "source": [
    "var_names=list(data.columns.values)"
   ]
  },
  {
   "cell_type": "code",
   "execution_count": 125,
   "metadata": {},
   "outputs": [
    {
     "data": {
      "text/plain": [
       "<matplotlib.collections.PathCollection at 0x1a11b8e4d0>"
      ]
     },
     "execution_count": 125,
     "metadata": {},
     "output_type": "execute_result"
    },
    {
     "data": {
      "image/png": "[encoded data removed]",
      "text/plain": [
       "<matplotlib.figure.Figure at 0x1a11b35110>"
      ]
     },
     "metadata": {},
     "output_type": "display_data"
    }
   ],
   "source": [
    "%matplotlib inline\n",
    "plt.scatter(x=data['interview_age'].values, y=data['anthroheightcalc'].values, c=data['PDS'].values,s=100)"
   ]
  },
  {
   "cell_type": "code",
   "execution_count": 104,
   "metadata": {},
   "outputs": [
    {
     "name": "stdout",
     "output_type": "stream",
     "text": [
      "['src_subject_id', 'pds_ht2_y', 'pds_skin2_y', 'pds_bdyhair_y', 'PDS', 'pds_f4_2_y', 'pds_f5_y', 'pds_m4_y', 'pds_m5_y', 'interview_age', 'gender', 'anthroheightcalc', 'anthroweightcalc', 'anthro_waist_cm', 'hormone_scr_dhea_mean', 'hormone_scr_hse_mean', 'hormone_scr_ert_mean', 'pds_f6_y', 'menstrualcycle2_y', 'menstrualcycle2_y_dk', 'menstrualcycle3_y', 'menstrualcycle4_y', 'menstrualcycle5_y', 'menstrualcycle6_y', 'sex']\n"
     ]
    }
   ],
   "source": [
    "print(var_names)"
   ]
  },
  {
   "cell_type": "code",
   "execution_count": 106,
   "metadata": {},
   "outputs": [],
   "source": [
    "target_var=pd.DataFrame(data['PDS'].values)\n"
   ]
  },
  {
   "cell_type": "code",
   "execution_count": 107,
   "metadata": {},
   "outputs": [],
   "source": [
    "f1=data['interview_age'].values\n",
    "f10=data['pds_skin2_y'].values\n",
    "f11=data['pds_bdyhair_y'].values\n",
    "f12=data['pds_f4_2_y'].values\n",
    "f13=data['pds_f5_y'].values\n",
    "f14=data['pds_f6_y'].values\n",
    "f16=data['pds_m4_y'].values\n",
    "f17=data['pds_m5_y'].values\n",
    "f19=data['menstrualcycle2_y'].values\n",
    "f2=data['sex'].values\n",
    "f3=data['anthroheightcalc'].values\n",
    "f4=data['anthroweightcalc'].values\n",
    "f5=data['anthro_waist_cm'].values\n",
    "f6=data['hormone_scr_dhea_mean'].values\n",
    "f7=data['hormone_scr_hse_mean'].values\n",
    "f8=data['hormone_scr_ert_mean'].values\n",
    "f9=data['pds_ht2_y'].values"
   ]
  },
  {
   "cell_type": "code",
   "execution_count": 108,
   "metadata": {},
   "outputs": [],
   "source": [
    "X=np.matrix(zip(f1,f2,f3,f4,f5,f6,f7,f8,f9,f10,f11,f12,f13,f14,f16,f17,f19))"
   ]
  },
  {
   "cell_type": "code",
   "execution_count": 109,
   "metadata": {},
   "outputs": [
    {
     "data": {
      "text/plain": [
       "matrix([[  1.21000000e+02,   0.00000000e+00,   5.35000000e+01,\n",
       "           8.14000000e+01,   2.52000000e+01,   1.00000000e+00,\n",
       "                      nan,              nan,   2.00000000e+00,\n",
       "           1.00000000e+00,   2.00000000e+00,   0.00000000e+00,\n",
       "           0.00000000e+00,              nan,   2.00000000e+00,\n",
       "           2.00000000e+00,   0.00000000e+00],\n",
       "        [  1.30000000e+02,   1.00000000e+00,   5.45000000e+01,\n",
       "           6.85000000e+01,   2.22500000e+01,   1.08900000e+03,\n",
       "           1.04500000e+00,   1.66165000e+01,   1.00000000e+00,\n",
       "           1.00000000e+00,   1.00000000e+00,   1.00000000e+00,\n",
       "           1.00000000e+00,              nan,   0.00000000e+00,\n",
       "           0.00000000e+00,              nan],\n",
       "        [  1.15000000e+02,   0.00000000e+00,   5.53500000e+01,\n",
       "           8.92000000e+01,   2.50000000e+01,   1.31400000e+03,\n",
       "           2.89200000e+01,              nan,   3.00000000e+00,\n",
       "           1.00000000e+00,   2.00000000e+00,   0.00000000e+00,\n",
       "           0.00000000e+00,              nan,   2.00000000e+00,\n",
       "           1.00000000e+00,   0.00000000e+00],\n",
       "        [  1.29000000e+02,   0.00000000e+00,   6.05000000e+01,\n",
       "           9.10000000e+01,   2.80000000e+01,   1.00000000e+00,\n",
       "                      nan,              nan,   3.00000000e+00,\n",
       "           2.00000000e+00,   2.00000000e+00,   0.00000000e+00,\n",
       "           0.00000000e+00,              nan,   2.00000000e+00,\n",
       "           2.00000000e+00,   0.00000000e+00]])"
      ]
     },
     "execution_count": 109,
     "metadata": {},
     "output_type": "execute_result"
    }
   ],
   "source": [
    "X[1:5]"
   ]
  },
  {
   "cell_type": "code",
   "execution_count": 110,
   "metadata": {},
   "outputs": [
    {
     "data": {
      "text/plain": [
       "(2189, 17)"
      ]
     },
     "execution_count": 110,
     "metadata": {},
     "output_type": "execute_result"
    }
   ],
   "source": [
    "X.shape"
   ]
  },
  {
   "cell_type": "code",
   "execution_count": 111,
   "metadata": {},
   "outputs": [
    {
     "name": "stdout",
     "output_type": "stream",
     "text": [
      "0\n"
     ]
    }
   ],
   "source": [
    "imputer = Imputer()\n",
    "transformed_values = imputer.fit_transform(X)\n",
    "# count the number of NaN values in each column\n",
    "print(np.isnan(transformed_values).sum()) \n",
    "transformed_values_scale = scale(transformed_values)"
   ]
  },
  {
   "cell_type": "code",
   "execution_count": 112,
   "metadata": {},
   "outputs": [
    {
     "data": {
      "text/plain": [
       "(2189, 17)"
      ]
     },
     "execution_count": 112,
     "metadata": {},
     "output_type": "execute_result"
    }
   ],
   "source": [
    "transformed_values_scale.shape"
   ]
  },
  {
   "cell_type": "code",
   "execution_count": 113,
   "metadata": {},
   "outputs": [],
   "source": [
    "indices = np.random.permutation(transformed_values_scale.shape[0])\n",
    "training_idx, test_idx = indices[:1751], indices[1751:]\n",
    "training, test = transformed_values_scale[training_idx,:], transformed_values_scale[test_idx,:]"
   ]
  },
  {
   "cell_type": "code",
   "execution_count": 114,
   "metadata": {
    "scrolled": true
   },
   "outputs": [
    {
     "data": {
      "text/plain": [
       "array([[  1.29015494e+00,  -8.37960198e-01,   1.24420778e-01,\n",
       "         -1.03156525e-01,   7.79679385e-02,   1.08387280e+00,\n",
       "          1.18137931e+00,   1.28722278e-13,   1.80194915e+00,\n",
       "          1.77075883e+00,   3.49895136e-01,  -7.38044574e-01,\n",
       "         -7.00996612e-01,  -3.16021574e-12,   8.66705685e-02,\n",
       "          3.64002154e-01,  -1.29284925e-01],\n",
       "       [  1.97693583e-01,   1.19337410e+00,   1.02352625e+00,\n",
       "          1.30900035e+00,   1.37180115e+00,   2.06749743e+00,\n",
       "         -1.19944732e+00,   8.05908544e-01,   6.58625471e-01,\n",
       "         -8.22878562e-01,   3.49895136e-01,   1.23608932e+00,\n",
       "          8.35857683e-01,  -3.16021574e-12,  -9.72743978e-01,\n",
       "         -9.95104866e-01,  -7.12058912e-16],\n",
       "       [ -1.71411379e+00,  -8.37960198e-01,   4.03453511e-01,\n",
       "         -5.25347756e-01,   7.79679385e-02,   2.05929079e+00,\n",
       "          1.20312075e+00,   1.28722278e-13,  -4.84698206e-01,\n",
       "          4.73940136e-01,  -8.26633978e-01,  -7.38044574e-01,\n",
       "         -7.00996612e-01,  -3.16021574e-12,   8.66705685e-02,\n",
       "          3.64002154e-01,  -1.29284925e-01],\n",
       "       [ -6.21652433e-01,  -8.37960198e-01,   1.16669868e-01,\n",
       "          2.11303149e-01,   6.17065109e-01,  -8.81031697e-01,\n",
       "         -1.62353960e-14,   1.28722278e-13,   1.80194915e+00,\n",
       "         -8.22878562e-01,   3.49895136e-01,  -7.38044574e-01,\n",
       "         -7.00996612e-01,  -3.16021574e-12,   1.14608511e+00,\n",
       "          3.64002154e-01,  -1.29284925e-01],\n",
       "       [  6.11359141e-02,   1.19337410e+00,  -6.66171968e-01,\n",
       "         -9.53362313e-01,  -8.38497252e-01,  -1.75260511e-01,\n",
       "         -1.21204904e+00,  -3.09704557e+00,  -4.84698206e-01,\n",
       "          4.73940136e-01,  -8.26633978e-01,   2.49022375e-01,\n",
       "          8.35857683e-01,  -3.16021574e-12,  -9.72743978e-01,\n",
       "         -9.95104866e-01,  -7.12058912e-16],\n",
       "       [ -1.30444078e+00,  -8.37960198e-01,  -3.71637415e-01,\n",
       "         -1.09312217e+00,   4.01426241e-01,   2.97207575e-01,\n",
       "          1.14179054e-01,   1.28722278e-13,   6.58625471e-01,\n",
       "          4.73940136e-01,   1.52642425e+00,  -7.38044574e-01,\n",
       "         -7.00996612e-01,  -3.16021574e-12,   1.14608511e+00,\n",
       "          1.72310917e+00,  -1.29284925e-01],\n",
       "       [ -6.21652433e-01,  -8.37960198e-01,  -6.81673786e-01,\n",
       "         -3.06972981e-01,  -3.53309798e-01,  -5.82075464e-01,\n",
       "          1.45252420e+00,   1.28722278e-13,  -1.62802188e+00,\n",
       "         -8.22878562e-01,  -8.26633978e-01,  -7.38044574e-01,\n",
       "         -7.00996612e-01,  -3.16021574e-12,   8.66705685e-02,\n",
       "          3.64002154e-01,  -1.29284925e-01],\n",
       "       [ -1.16788311e+00,  -8.37960198e-01,  -1.92181927e+00,\n",
       "         -1.20230956e+00,  -1.10804584e+00,   8.85244008e-02,\n",
       "         -2.44589396e-01,   1.28722278e-13,  -1.62802188e+00,\n",
       "         -8.22878562e-01,  -8.26633978e-01,  -7.38044574e-01,\n",
       "         -7.00996612e-01,  -3.16021574e-12,   8.66705685e-02,\n",
       "          1.72310917e+00,  -1.29284925e-01],\n",
       "       [ -8.94767772e-01,  -8.37960198e-01,  -9.91710157e-01,\n",
       "         -3.94322891e-01,  -1.37670930e-01,  -8.11861431e-01,\n",
       "         -2.97627442e-01,   1.28722278e-13,  -4.84698206e-01,\n",
       "         -8.22878562e-01,  -8.26633978e-01,  -7.38044574e-01,\n",
       "         -7.00996612e-01,  -3.16021574e-12,   1.14608511e+00,\n",
       "          3.64002154e-01,  -1.29284925e-01]])"
      ]
     },
     "execution_count": 114,
     "metadata": {},
     "output_type": "execute_result"
    }
   ],
   "source": [
    "training[1:10]"
   ]
  },
  {
   "cell_type": "code",
   "execution_count": 115,
   "metadata": {},
   "outputs": [],
   "source": [
    "kmeansTraining = KMeans(n_clusters=4, random_state = 5).fit(transformed_values)"
   ]
  },
  {
   "cell_type": "code",
   "execution_count": 116,
   "metadata": {},
   "outputs": [
    {
     "data": {
      "text/plain": [
       "KMeans(algorithm='auto', copy_x=True, init='k-means++', max_iter=300,\n",
       "    n_clusters=4, n_init=10, n_jobs=1, precompute_distances='auto',\n",
       "    random_state=5, tol=0.0001, verbose=0)"
      ]
     },
     "execution_count": 116,
     "metadata": {},
     "output_type": "execute_result"
    }
   ],
   "source": [
    "kmeansTraining"
   ]
  },
  {
   "cell_type": "code",
   "execution_count": 117,
   "metadata": {},
   "outputs": [],
   "source": [
    "%matplotlib inline\n",
    "matplotlib.rcParams['figure.figsize']=100,400"
   ]
  },
  {
   "cell_type": "code",
   "execution_count": 118,
   "metadata": {},
   "outputs": [],
   "source": [
    "new_df=pd.DataFrame(X)\n",
    "new_df.columns=['interview_age','pds_skin2_y','pds_bdyhair_y','pds_f4_2_y','pds_f5_y','pds_f6_y',\n",
    "'pds_m4_y','pds_m5_y','menstrualcycle2_y','sex','anthroheightcalc','anthroweightcalc','anthro_waist_cm',\n",
    "'hormone_scr_dhea_mean','hormone_scr_hse_mean','hormone_scr_ert_mean','pds_ht2_y']\n",
    "target_var.columns = ['Targets']"
   ]
  },
  {
   "cell_type": "code",
   "execution_count": 127,
   "metadata": {},
   "outputs": [
    {
     "data": {
      "text/plain": [
       "<matplotlib.collections.PathCollection at 0x10fe84210>"
      ]
     },
     "execution_count": 127,
     "metadata": {},
     "output_type": "execute_result"
    },
    {
     "data": {
      "image/png": "[encoded data removed]",
      "text/plain": [
       "<matplotlib.figure.Figure at 0x1a11f748d0>"
      ]
     },
     "metadata": {},
     "output_type": "display_data"
    }
   ],
   "source": [
    "color_theme=sns.palplot(sns.color_palette(\"husl\", 8))\n",
    "\n",
    "plt.subplot(1,2,1)\n",
    "\n",
    "plt.scatter(x=new_df.anthro_waist_cm, y=new_df.hormone_scr_dhea_mean, c=data['PDS'].values,s=50)\n",
    "\n",
    "plt.subplot(1,2,2)\n",
    "\n",
    "plt.scatter(x=new_df.anthro_waist_cm, y=new_df.hormone_scr_dhea_mean, c=kmeansTraining.labels_,s=100)"
   ]
  },
  {
   "cell_type": "code",
   "execution_count": 122,
   "metadata": {},
   "outputs": [
    {
     "data": {
      "text/plain": [
       "array([ 2. ,  1.8,  1. , ...,  1.6,  1.2,  1.6])"
      ]
     },
     "execution_count": 122,
     "metadata": {},
     "output_type": "execute_result"
    }
   ],
   "source": [
    "np.array(data['PDS'].values)"
   ]
  },
  {
   "cell_type": "code",
   "execution_count": 84,
   "metadata": {},
   "outputs": [
    {
     "name": "stdout",
     "output_type": "stream",
     "text": [
      "[0 0 0 0 0 0 0 0 0 0 0 0 0 0 0 0 0 0 0 0 0 0 0 0 0 0 0 0 0 0 0 0 0 0 0 0 0\n",
      " 0 0 0 0 0 0 0 0 0 0 0 0 0 1 1 1 1 1 1 1 1 1 1 1 1 1 1 1 1 1 1 1 1 1 1 1 1\n",
      " 1 1 1 1 1 1 1 1 1 1 1 1 1 1 1 1 1 1 1 1 1 1 1 1 1 1 2 2 2 2 2 2 2 2 2 2 2\n",
      " 2 2 2 2 2 2 2 2 2 2 2 2 2 2 2 2 2 2 2 2 2 2 2 2 2 2 2 2 2 2 2 2 2 2 2 2 2\n",
      " 2 2]\n"
     ]
    }
   ],
   "source": [
    "#example\n",
    "iris = datasets.load_iris()\n",
    "print(iris.target) #what they really are\n",
    "y = pd.DataFrame(iris.target) #what they really are\n",
    "#print(y)\n",
    "X =scale(iris.data)\n",
    "#print(iris.data)\n",
    "variable_names=iris.feature_names\n",
    "#print(variable_names)"
   ]
  },
  {
   "cell_type": "code",
   "execution_count": 112,
   "metadata": {},
   "outputs": [],
   "source": [
    "kmeansTraining = KMeans(n_clusters=4).fit(transformed_values)"
   ]
  },
  {
   "cell_type": "code",
   "execution_count": 113,
   "metadata": {},
   "outputs": [
    {
     "data": {
      "text/plain": [
       "array([2, 3, 2, ..., 0, 2, 2], dtype=int32)"
      ]
     },
     "execution_count": 113,
     "metadata": {},
     "output_type": "execute_result"
    }
   ],
   "source": [
    "kmeansTraining.labels_"
   ]
  },
  {
   "cell_type": "code",
   "execution_count": 162,
   "metadata": {},
   "outputs": [
    {
     "data": {
      "text/plain": [
       "<matplotlib.collections.PathCollection at 0x1a17366cd0>"
      ]
     },
     "execution_count": 162,
     "metadata": {},
     "output_type": "execute_result"
    },
    {
     "data": {
      "image/png": "[encoded data removed]",
      "text/plain": [
       "<matplotlib.figure.Figure at 0x1a16f6ca10>"
      ]
     },
     "metadata": {},
     "output_type": "display_data"
    }
   ],
   "source": [
    "%matplotlib inline\n",
    "import matplotlib.pyplot as plt\n",
    "plt.scatter(transformed_values[:, 4], transformed_values[:, 5],  c=kmeansTraining.labels_, s=2, cmap='viridis')"
   ]
  },
  {
   "cell_type": "markdown",
   "metadata": {
    "hideCode": true
   },
   "source": [
    "transformed_values[:, 2]"
   ]
  },
  {
   "cell_type": "code",
   "execution_count": 116,
   "metadata": {},
   "outputs": [
    {
     "data": {
      "text/plain": [
       "KMeans(algorithm='auto', copy_x=True, init='k-means++', max_iter=300,\n",
       "    n_clusters=4, n_init=10, n_jobs=1, precompute_distances='auto',\n",
       "    random_state=None, tol=0.0001, verbose=0)"
      ]
     },
     "execution_count": 116,
     "metadata": {},
     "output_type": "execute_result"
    }
   ],
   "source": [
    "kmeansTraining"
   ]
  },
  {
   "cell_type": "code",
   "execution_count": 10,
   "metadata": {},
   "outputs": [],
   "source": [
    "#trying affinity"
   ]
  },
  {
   "cell_type": "code",
   "execution_count": 11,
   "metadata": {},
   "outputs": [],
   "source": [
    "from sklearn.cluster import AffinityPropagation\n",
    "from sklearn import metrics\n"
   ]
  },
  {
   "cell_type": "code",
   "execution_count": null,
   "metadata": {},
   "outputs": [],
   "source": [
    "#ladies first"
   ]
  },
  {
   "cell_type": "code",
   "execution_count": 28,
   "metadata": {},
   "outputs": [],
   "source": [
    "var_names=list(lady_dudes.columns.values)"
   ]
  },
  {
   "cell_type": "code",
   "execution_count": 29,
   "metadata": {},
   "outputs": [
    {
     "name": "stdout",
     "output_type": "stream",
     "text": [
      "['src_subject_id', 'pds_ht2_y', 'pds_skin2_y', 'pds_bdyhair_y', 'PDS', 'pds_f4_2_y', 'pds_f5_y', 'pds_m4_y', 'pds_m5_y', 'interview_age', 'gender', 'anthroheightcalc', 'anthroweightcalc', 'anthro_waist_cm', 'hormone_scr_dhea_mean', 'hormone_scr_hse_mean', 'hormone_scr_ert_mean', 'pds_f6_y', 'days_since_period', 'menstrualcycle2_y', 'menstrualcycle2_y_dk', 'menstrualcycle3_y', 'menstrualcycle4_y', 'menstrualcycle5_y', 'menstrualcycle6_y', 'sex']\n"
     ]
    }
   ],
   "source": [
    "print(var_names)"
   ]
  },
  {
   "cell_type": "code",
   "execution_count": 44,
   "metadata": {},
   "outputs": [],
   "source": [
    "labels_true=lady_dudes['PDS'].values\n",
    "f2=lady_dudes['pds_ht2_y'].values\n",
    "f3=lady_dudes['pds_skin2_y'].values\n",
    "f4=lady_dudes['pds_bdyhair_y'].values\n",
    "f5=lady_dudes['pds_f4_2_y'].values\n",
    "f6=lady_dudes['pds_f5_y'].values\n",
    "f7=lady_dudes['interview_age'].values\n",
    "f8=lady_dudes['anthroheightcalc'].values \n",
    "f9=lady_dudes['anthroweightcalc'].values\n",
    "f10=lady_dudes['anthro_waist_cm'].values\n",
    "f11=lady_dudes['hormone_scr_dhea_mean'].values\n",
    "f12=lady_dudes['hormone_scr_hse_mean'].values\n",
    "f13=lady_dudes['hormone_scr_ert_mean'].values\n",
    "X=np.matrix(zip(f2,f3,f4,f5,f6,f7,f8,f9,f10,f11,f12,f13))"
   ]
  },
  {
   "cell_type": "code",
   "execution_count": 58,
   "metadata": {},
   "outputs": [
    {
     "data": {
      "text/plain": [
       "(903, 12)"
      ]
     },
     "execution_count": 58,
     "metadata": {},
     "output_type": "execute_result"
    }
   ],
   "source": [
    "X.shape"
   ]
  },
  {
   "cell_type": "code",
   "execution_count": 53,
   "metadata": {},
   "outputs": [
    {
     "name": "stdout",
     "output_type": "stream",
     "text": [
      "0\n"
     ]
    },
    {
     "data": {
      "text/plain": [
       "array([], shape=(0, 2), dtype=int64)"
      ]
     },
     "execution_count": 53,
     "metadata": {},
     "output_type": "execute_result"
    }
   ],
   "source": [
    "imputer = Imputer()\n",
    "transformed_values = imputer.fit_transform(X)\n",
    "# count the number of NaN values in each column\n",
    "print(np.isnan(transformed_values).sum()) \n",
    "#transformed_values_scale = scale(transformed_values)\n",
    "np.argwhere(np.isnan(transformed_values))"
   ]
  },
  {
   "cell_type": "code",
   "execution_count": 59,
   "metadata": {},
   "outputs": [
    {
     "data": {
      "text/plain": [
       "(903, 12)"
      ]
     },
     "execution_count": 59,
     "metadata": {},
     "output_type": "execute_result"
    }
   ],
   "source": [
    "transformed_values.shape"
   ]
  },
  {
   "cell_type": "code",
   "execution_count": 81,
   "metadata": {},
   "outputs": [
    {
     "name": "stdout",
     "output_type": "stream",
     "text": [
      "Estimated number of clusters: 553\n",
      "Homogeneity: 0.711\n",
      "Completeness: 0.270\n",
      "V-measure: 0.392\n",
      "Adjusted Rand Index: 0.003\n",
      "Adjusted Mutual Information: 0.013\n"
     ]
    },
    {
     "ename": "ValueError",
     "evalue": "Input contains NaN, infinity or a value too large for dtype('float64').",
     "output_type": "error",
     "traceback": [
      "\u001b[0;31m---------------------------------------------------------------------------\u001b[0m",
      "\u001b[0;31mValueError\u001b[0m                                Traceback (most recent call last)",
      "\u001b[0;32m<ipython-input-81-34303ca3fb93>\u001b[0m in \u001b[0;36m<module>\u001b[0;34m()\u001b[0m\n\u001b[1;32m     15\u001b[0m       % metrics.adjusted_mutual_info_score(labels_true, labels))\n\u001b[1;32m     16\u001b[0m print(\"Silhouette Coefficient: %0.3f\"\n\u001b[0;32m---> 17\u001b[0;31m       % metrics.silhouette_score(X, labels, metric='sqeuclidean'))\n\u001b[0m",
      "\u001b[0;32m/anaconda2/lib/python2.7/site-packages/sklearn/metrics/cluster/unsupervised.pyc\u001b[0m in \u001b[0;36msilhouette_score\u001b[0;34m(X, labels, metric, sample_size, random_state, **kwds)\u001b[0m\n\u001b[1;32m     99\u001b[0m         \u001b[0;32melse\u001b[0m\u001b[0;34m:\u001b[0m\u001b[0;34m\u001b[0m\u001b[0m\n\u001b[1;32m    100\u001b[0m             \u001b[0mX\u001b[0m\u001b[0;34m,\u001b[0m \u001b[0mlabels\u001b[0m \u001b[0;34m=\u001b[0m \u001b[0mX\u001b[0m\u001b[0;34m[\u001b[0m\u001b[0mindices\u001b[0m\u001b[0;34m]\u001b[0m\u001b[0;34m,\u001b[0m \u001b[0mlabels\u001b[0m\u001b[0;34m[\u001b[0m\u001b[0mindices\u001b[0m\u001b[0;34m]\u001b[0m\u001b[0;34m\u001b[0m\u001b[0m\n\u001b[0;32m--> 101\u001b[0;31m     \u001b[0;32mreturn\u001b[0m \u001b[0mnp\u001b[0m\u001b[0;34m.\u001b[0m\u001b[0mmean\u001b[0m\u001b[0;34m(\u001b[0m\u001b[0msilhouette_samples\u001b[0m\u001b[0;34m(\u001b[0m\u001b[0mX\u001b[0m\u001b[0;34m,\u001b[0m \u001b[0mlabels\u001b[0m\u001b[0;34m,\u001b[0m \u001b[0mmetric\u001b[0m\u001b[0;34m=\u001b[0m\u001b[0mmetric\u001b[0m\u001b[0;34m,\u001b[0m \u001b[0;34m**\u001b[0m\u001b[0mkwds\u001b[0m\u001b[0;34m)\u001b[0m\u001b[0;34m)\u001b[0m\u001b[0;34m\u001b[0m\u001b[0m\n\u001b[0m\u001b[1;32m    102\u001b[0m \u001b[0;34m\u001b[0m\u001b[0m\n\u001b[1;32m    103\u001b[0m \u001b[0;34m\u001b[0m\u001b[0m\n",
      "\u001b[0;32m/anaconda2/lib/python2.7/site-packages/sklearn/metrics/cluster/unsupervised.pyc\u001b[0m in \u001b[0;36msilhouette_samples\u001b[0;34m(X, labels, metric, **kwds)\u001b[0m\n\u001b[1;32m    162\u001b[0m \u001b[0;34m\u001b[0m\u001b[0m\n\u001b[1;32m    163\u001b[0m     \"\"\"\n\u001b[0;32m--> 164\u001b[0;31m     \u001b[0mX\u001b[0m\u001b[0;34m,\u001b[0m \u001b[0mlabels\u001b[0m \u001b[0;34m=\u001b[0m \u001b[0mcheck_X_y\u001b[0m\u001b[0;34m(\u001b[0m\u001b[0mX\u001b[0m\u001b[0;34m,\u001b[0m \u001b[0mlabels\u001b[0m\u001b[0;34m,\u001b[0m \u001b[0maccept_sparse\u001b[0m\u001b[0;34m=\u001b[0m\u001b[0;34m[\u001b[0m\u001b[0;34m'csc'\u001b[0m\u001b[0;34m,\u001b[0m \u001b[0;34m'csr'\u001b[0m\u001b[0;34m]\u001b[0m\u001b[0;34m)\u001b[0m\u001b[0;34m\u001b[0m\u001b[0m\n\u001b[0m\u001b[1;32m    165\u001b[0m     \u001b[0mle\u001b[0m \u001b[0;34m=\u001b[0m \u001b[0mLabelEncoder\u001b[0m\u001b[0;34m(\u001b[0m\u001b[0;34m)\u001b[0m\u001b[0;34m\u001b[0m\u001b[0m\n\u001b[1;32m    166\u001b[0m     \u001b[0mlabels\u001b[0m \u001b[0;34m=\u001b[0m \u001b[0mle\u001b[0m\u001b[0;34m.\u001b[0m\u001b[0mfit_transform\u001b[0m\u001b[0;34m(\u001b[0m\u001b[0mlabels\u001b[0m\u001b[0;34m)\u001b[0m\u001b[0;34m\u001b[0m\u001b[0m\n",
      "\u001b[0;32m/anaconda2/lib/python2.7/site-packages/sklearn/utils/validation.pyc\u001b[0m in \u001b[0;36mcheck_X_y\u001b[0;34m(X, y, accept_sparse, dtype, order, copy, force_all_finite, ensure_2d, allow_nd, multi_output, ensure_min_samples, ensure_min_features, y_numeric, warn_on_dtype, estimator)\u001b[0m\n\u001b[1;32m    571\u001b[0m     X = check_array(X, accept_sparse, dtype, order, copy, force_all_finite,\n\u001b[1;32m    572\u001b[0m                     \u001b[0mensure_2d\u001b[0m\u001b[0;34m,\u001b[0m \u001b[0mallow_nd\u001b[0m\u001b[0;34m,\u001b[0m \u001b[0mensure_min_samples\u001b[0m\u001b[0;34m,\u001b[0m\u001b[0;34m\u001b[0m\u001b[0m\n\u001b[0;32m--> 573\u001b[0;31m                     ensure_min_features, warn_on_dtype, estimator)\n\u001b[0m\u001b[1;32m    574\u001b[0m     \u001b[0;32mif\u001b[0m \u001b[0mmulti_output\u001b[0m\u001b[0;34m:\u001b[0m\u001b[0;34m\u001b[0m\u001b[0m\n\u001b[1;32m    575\u001b[0m         y = check_array(y, 'csr', force_all_finite=True, ensure_2d=False,\n",
      "\u001b[0;32m/anaconda2/lib/python2.7/site-packages/sklearn/utils/validation.pyc\u001b[0m in \u001b[0;36mcheck_array\u001b[0;34m(array, accept_sparse, dtype, order, copy, force_all_finite, ensure_2d, allow_nd, ensure_min_samples, ensure_min_features, warn_on_dtype, estimator)\u001b[0m\n\u001b[1;32m    451\u001b[0m                              % (array.ndim, estimator_name))\n\u001b[1;32m    452\u001b[0m         \u001b[0;32mif\u001b[0m \u001b[0mforce_all_finite\u001b[0m\u001b[0;34m:\u001b[0m\u001b[0;34m\u001b[0m\u001b[0m\n\u001b[0;32m--> 453\u001b[0;31m             \u001b[0m_assert_all_finite\u001b[0m\u001b[0;34m(\u001b[0m\u001b[0marray\u001b[0m\u001b[0;34m)\u001b[0m\u001b[0;34m\u001b[0m\u001b[0m\n\u001b[0m\u001b[1;32m    454\u001b[0m \u001b[0;34m\u001b[0m\u001b[0m\n\u001b[1;32m    455\u001b[0m     \u001b[0mshape_repr\u001b[0m \u001b[0;34m=\u001b[0m \u001b[0m_shape_repr\u001b[0m\u001b[0;34m(\u001b[0m\u001b[0marray\u001b[0m\u001b[0;34m.\u001b[0m\u001b[0mshape\u001b[0m\u001b[0;34m)\u001b[0m\u001b[0;34m\u001b[0m\u001b[0m\n",
      "\u001b[0;32m/anaconda2/lib/python2.7/site-packages/sklearn/utils/validation.pyc\u001b[0m in \u001b[0;36m_assert_all_finite\u001b[0;34m(X)\u001b[0m\n\u001b[1;32m     42\u001b[0m             and not np.isfinite(X).all()):\n\u001b[1;32m     43\u001b[0m         raise ValueError(\"Input contains NaN, infinity\"\n\u001b[0;32m---> 44\u001b[0;31m                          \" or a value too large for %r.\" % X.dtype)\n\u001b[0m\u001b[1;32m     45\u001b[0m \u001b[0;34m\u001b[0m\u001b[0m\n\u001b[1;32m     46\u001b[0m \u001b[0;34m\u001b[0m\u001b[0m\n",
      "\u001b[0;31mValueError\u001b[0m: Input contains NaN, infinity or a value too large for dtype('float64')."
     ]
    }
   ],
   "source": [
    "# Compute Affinity Propagation\n",
    "af = AffinityPropagation(preference=-100).fit(transformed_values)\n",
    "cluster_centers_indices = af.cluster_centers_indices_\n",
    "labels = af.labels_\n",
    "\n",
    "n_clusters_ = len(cluster_centers_indices)\n",
    "\n",
    "print('Estimated number of clusters: %d' % n_clusters_)\n",
    "print(\"Homogeneity: %0.3f\" % metrics.homogeneity_score(labels_true, labels))\n",
    "print(\"Completeness: %0.3f\" % metrics.completeness_score(labels_true, labels))\n",
    "print(\"V-measure: %0.3f\" % metrics.v_measure_score(labels_true, labels))\n",
    "print(\"Adjusted Rand Index: %0.3f\"\n",
    "      % metrics.adjusted_rand_score(labels_true, labels))\n",
    "print(\"Adjusted Mutual Information: %0.3f\"\n",
    "      % metrics.adjusted_mutual_info_score(labels_true, labels))\n",
    "print(\"Silhouette Coefficient: %0.3f\"\n",
    "      % metrics.silhouette_score(X, labels, metric='sqeuclidean'))"
   ]
  },
  {
   "cell_type": "code",
   "execution_count": 60,
   "metadata": {},
   "outputs": [
    {
     "name": "stdout",
     "output_type": "stream",
     "text": [
      "[  5  10  24  38  77  81 100 118 124 153 156 174 180 196 212 226 252 294\n",
      " 300 308 312 316 319 329 330 336 337 348 392 393 405 412 422 433 436 440\n",
      " 460 467 472 473 479 490 511 514 552 557 568 574 598 612 613 658 669 706\n",
      " 712 732 781 791 813 814 836 845 853 855 856 859 860 866 875 877 886 900]\n"
     ]
    }
   ],
   "source": [
    "print(cluster_centers_indices)\n",
    "\n",
    "#labels = af.labels_\n",
    "\n",
    "#n_clusters_ = len(cluster_centers_indices)\n"
   ]
  },
  {
   "cell_type": "code",
   "execution_count": 62,
   "metadata": {},
   "outputs": [
    {
     "name": "stdout",
     "output_type": "stream",
     "text": [
      "[[  1.00000000e+00   1.00000000e+00   1.00000000e+00   2.00000000e+00\n",
      "    1.00000000e+00   1.19000000e+02   5.31400000e+01   6.90000000e+01\n",
      "    2.37500000e+01   2.12700000e+03   1.01050000e+00   3.13025000e+01]]\n"
     ]
    }
   ],
   "source": [
    "cluster_center = X[cluster_centers_indices[k]]\n",
    "print(cluster_center)"
   ]
  },
  {
   "cell_type": "code",
   "execution_count": 71,
   "metadata": {},
   "outputs": [
    {
     "data": {
      "text/plain": [
       "0"
      ]
     },
     "execution_count": 71,
     "metadata": {},
     "output_type": "execute_result"
    }
   ],
   "source": [
    "k"
   ]
  },
  {
   "cell_type": "code",
   "execution_count": 78,
   "metadata": {},
   "outputs": [
    {
     "name": "stdout",
     "output_type": "stream",
     "text": [
      "0\n",
      "[False False False False False  True False False False False False False\n",
      " False False False False False False False False False False False  True\n",
      " False False False False False False False False False False False False\n",
      " False False False False False False False False False False False False\n",
      " False False False False False  True False False False False False False\n",
      " False False False False False False False False False False False False\n",
      " False False False False False False False False False False False False\n",
      " False False False False False False False False False False False False\n",
      " False False False False False False False False False False False False\n",
      " False False False  True False False False False False False False False\n",
      " False False  True False False False False False False False False False\n",
      " False  True False False False False False False False False False False\n",
      " False False False False False False False False False False False False\n",
      " False False False False False False False False False False False False\n",
      " False False False False False False False False False False False False\n",
      " False False False False False False False False False False False False\n",
      " False False False False False False False False False False False False\n",
      " False False False False False False False False False False False False\n",
      " False False False False False False False False False False False False\n",
      " False False False False False False False False False False False False\n",
      " False False False  True False False False False False False False False\n",
      " False False False False False False False False False False False False\n",
      " False False False False False False False False False False False False\n",
      " False False False False False False False False False False False False\n",
      " False False False False False False False False False False False False\n",
      " False  True False False False False False False False False False False\n",
      " False False False False False False False False False False False False\n",
      " False False False False False False False False  True False False False\n",
      " False False False  True False False False False False False False False\n",
      " False False False False False False False False False False False False\n",
      " False False False False False False False False False False False False\n",
      " False False False False False False False False False False False False\n",
      " False False False False False False False False False False False False\n",
      " False False False False False False False False False False False False\n",
      " False False False False False False False False False False False False\n",
      " False False False False False False  True False False False False False\n",
      " False False False False False False False False False False False False\n",
      " False False False False False False False False False  True False False\n",
      " False False False False False False False  True False False False False\n",
      " False False False False False False False False False False  True False\n",
      " False False False False False False False False False False False False\n",
      " False False False False False False False False False False False False\n",
      " False  True False False False False False False False False False False\n",
      " False False False False False False False False False False False False\n",
      " False False False False False False False False False False False False\n",
      " False False False False False False False False False False False False\n",
      " False False False False False False False False False False False False\n",
      " False False False False False False False False False False False False\n",
      " False False False False False False False False False False False False\n",
      " False False False False False False False False False False False False\n",
      " False  True False False  True False False False False False False False\n",
      " False False False False False False False False False False False False\n",
      " False False False False False False False False False False  True False\n",
      " False False False False False False False False False False False False\n",
      " False False False False False False False False False False False False\n",
      " False False False  True False False False False False False False False\n",
      " False False False False False False False False False False False False\n",
      " False False False False False False False False False False False False\n",
      " False False False False False False False False False False False False\n",
      " False False False False False False False False False False False False\n",
      " False  True False False False False False False False False False False\n",
      " False False False False False False False False False False False False\n",
      " False False False False False False False False False False False  True\n",
      " False False False  True False False False False False False  True False\n",
      " False False False False False False False False False False False False\n",
      " False False  True False False False False False False False False False\n",
      " False False False False False False False False False  True False False\n",
      " False False False False False False False False False False False False\n",
      " False False False False False False False False False False False False\n",
      " False False False False False False False False False False False False\n",
      " False False False False False False False False False False False False\n",
      " False False False False False False False False False False False False\n",
      " False False False False False  True False False False False False False\n",
      " False False False False False False False False False False False False\n",
      " False False False False False False False False False False  True False\n",
      " False False False]\n",
      "[[  1.00000000e+00   1.00000000e+00   1.00000000e+00   2.00000000e+00\n",
      "    1.00000000e+00   1.19000000e+02   5.31400000e+01   6.90000000e+01\n",
      "    2.37500000e+01   2.12700000e+03   1.01050000e+00   3.13025000e+01]]\n"
     ]
    },
    {
     "ename": "ValueError",
     "evalue": "x and y can be no greater than 2-D, but have shapes (2,) and (2, 1, 12)",
     "output_type": "error",
     "traceback": [
      "\u001b[0;31m---------------------------------------------------------------------------\u001b[0m",
      "\u001b[0;31mValueError\u001b[0m                                Traceback (most recent call last)",
      "\u001b[0;32m<ipython-input-78-3f30f409f296>\u001b[0m in \u001b[0;36m<module>\u001b[0;34m()\u001b[0m\n\u001b[1;32m     18\u001b[0m              markeredgecolor='k', markersize=14)\n\u001b[1;32m     19\u001b[0m     \u001b[0;32mfor\u001b[0m \u001b[0mx\u001b[0m \u001b[0;32min\u001b[0m \u001b[0mX\u001b[0m\u001b[0;34m[\u001b[0m\u001b[0mclass_members\u001b[0m\u001b[0;34m]\u001b[0m\u001b[0;34m:\u001b[0m\u001b[0;34m\u001b[0m\u001b[0m\n\u001b[0;32m---> 20\u001b[0;31m         \u001b[0mplt\u001b[0m\u001b[0;34m.\u001b[0m\u001b[0mplot\u001b[0m\u001b[0;34m(\u001b[0m\u001b[0;34m[\u001b[0m\u001b[0mcluster_center\u001b[0m\u001b[0;34m[\u001b[0m\u001b[0;36m0\u001b[0m\u001b[0;34m]\u001b[0m\u001b[0;34m,\u001b[0m \u001b[0mx\u001b[0m\u001b[0;34m[\u001b[0m\u001b[0;36m0\u001b[0m\u001b[0;34m]\u001b[0m\u001b[0;34m]\u001b[0m\u001b[0;34m,\u001b[0m \u001b[0mcol\u001b[0m\u001b[0;34m)\u001b[0m\u001b[0;34m\u001b[0m\u001b[0m\n\u001b[0m\u001b[1;32m     21\u001b[0m \u001b[0;34m\u001b[0m\u001b[0m\n\u001b[1;32m     22\u001b[0m \u001b[0mplt\u001b[0m\u001b[0;34m.\u001b[0m\u001b[0mtitle\u001b[0m\u001b[0;34m(\u001b[0m\u001b[0;34m'Estimated number of clusters: %d'\u001b[0m \u001b[0;34m%\u001b[0m \u001b[0mn_clusters_\u001b[0m\u001b[0;34m)\u001b[0m\u001b[0;34m\u001b[0m\u001b[0m\n",
      "\u001b[0;32m/anaconda2/lib/python2.7/site-packages/matplotlib/pyplot.pyc\u001b[0m in \u001b[0;36mplot\u001b[0;34m(*args, **kwargs)\u001b[0m\n\u001b[1;32m   3238\u001b[0m                       mplDeprecation)\n\u001b[1;32m   3239\u001b[0m     \u001b[0;32mtry\u001b[0m\u001b[0;34m:\u001b[0m\u001b[0;34m\u001b[0m\u001b[0m\n\u001b[0;32m-> 3240\u001b[0;31m         \u001b[0mret\u001b[0m \u001b[0;34m=\u001b[0m \u001b[0max\u001b[0m\u001b[0;34m.\u001b[0m\u001b[0mplot\u001b[0m\u001b[0;34m(\u001b[0m\u001b[0;34m*\u001b[0m\u001b[0margs\u001b[0m\u001b[0;34m,\u001b[0m \u001b[0;34m**\u001b[0m\u001b[0mkwargs\u001b[0m\u001b[0;34m)\u001b[0m\u001b[0;34m\u001b[0m\u001b[0m\n\u001b[0m\u001b[1;32m   3241\u001b[0m     \u001b[0;32mfinally\u001b[0m\u001b[0;34m:\u001b[0m\u001b[0;34m\u001b[0m\u001b[0m\n\u001b[1;32m   3242\u001b[0m         \u001b[0max\u001b[0m\u001b[0;34m.\u001b[0m\u001b[0m_hold\u001b[0m \u001b[0;34m=\u001b[0m \u001b[0mwashold\u001b[0m\u001b[0;34m\u001b[0m\u001b[0m\n",
      "\u001b[0;32m/anaconda2/lib/python2.7/site-packages/matplotlib/__init__.pyc\u001b[0m in \u001b[0;36minner\u001b[0;34m(ax, *args, **kwargs)\u001b[0m\n\u001b[1;32m   1708\u001b[0m                     warnings.warn(msg % (label_namer, func.__name__),\n\u001b[1;32m   1709\u001b[0m                                   RuntimeWarning, stacklevel=2)\n\u001b[0;32m-> 1710\u001b[0;31m             \u001b[0;32mreturn\u001b[0m \u001b[0mfunc\u001b[0m\u001b[0;34m(\u001b[0m\u001b[0max\u001b[0m\u001b[0;34m,\u001b[0m \u001b[0;34m*\u001b[0m\u001b[0margs\u001b[0m\u001b[0;34m,\u001b[0m \u001b[0;34m**\u001b[0m\u001b[0mkwargs\u001b[0m\u001b[0;34m)\u001b[0m\u001b[0;34m\u001b[0m\u001b[0m\n\u001b[0m\u001b[1;32m   1711\u001b[0m         \u001b[0mpre_doc\u001b[0m \u001b[0;34m=\u001b[0m \u001b[0minner\u001b[0m\u001b[0;34m.\u001b[0m\u001b[0m__doc__\u001b[0m\u001b[0;34m\u001b[0m\u001b[0m\n\u001b[1;32m   1712\u001b[0m         \u001b[0;32mif\u001b[0m \u001b[0mpre_doc\u001b[0m \u001b[0;32mis\u001b[0m \u001b[0mNone\u001b[0m\u001b[0;34m:\u001b[0m\u001b[0;34m\u001b[0m\u001b[0m\n",
      "\u001b[0;32m/anaconda2/lib/python2.7/site-packages/matplotlib/axes/_axes.pyc\u001b[0m in \u001b[0;36mplot\u001b[0;34m(self, *args, **kwargs)\u001b[0m\n\u001b[1;32m   1435\u001b[0m         \u001b[0mkwargs\u001b[0m \u001b[0;34m=\u001b[0m \u001b[0mcbook\u001b[0m\u001b[0;34m.\u001b[0m\u001b[0mnormalize_kwargs\u001b[0m\u001b[0;34m(\u001b[0m\u001b[0mkwargs\u001b[0m\u001b[0;34m,\u001b[0m \u001b[0m_alias_map\u001b[0m\u001b[0;34m)\u001b[0m\u001b[0;34m\u001b[0m\u001b[0m\n\u001b[1;32m   1436\u001b[0m \u001b[0;34m\u001b[0m\u001b[0m\n\u001b[0;32m-> 1437\u001b[0;31m         \u001b[0;32mfor\u001b[0m \u001b[0mline\u001b[0m \u001b[0;32min\u001b[0m \u001b[0mself\u001b[0m\u001b[0;34m.\u001b[0m\u001b[0m_get_lines\u001b[0m\u001b[0;34m(\u001b[0m\u001b[0;34m*\u001b[0m\u001b[0margs\u001b[0m\u001b[0;34m,\u001b[0m \u001b[0;34m**\u001b[0m\u001b[0mkwargs\u001b[0m\u001b[0;34m)\u001b[0m\u001b[0;34m:\u001b[0m\u001b[0;34m\u001b[0m\u001b[0m\n\u001b[0m\u001b[1;32m   1438\u001b[0m             \u001b[0mself\u001b[0m\u001b[0;34m.\u001b[0m\u001b[0madd_line\u001b[0m\u001b[0;34m(\u001b[0m\u001b[0mline\u001b[0m\u001b[0;34m)\u001b[0m\u001b[0;34m\u001b[0m\u001b[0m\n\u001b[1;32m   1439\u001b[0m             \u001b[0mlines\u001b[0m\u001b[0;34m.\u001b[0m\u001b[0mappend\u001b[0m\u001b[0;34m(\u001b[0m\u001b[0mline\u001b[0m\u001b[0;34m)\u001b[0m\u001b[0;34m\u001b[0m\u001b[0m\n",
      "\u001b[0;32m/anaconda2/lib/python2.7/site-packages/matplotlib/axes/_base.pyc\u001b[0m in \u001b[0;36m_grab_next_args\u001b[0;34m(self, *args, **kwargs)\u001b[0m\n\u001b[1;32m    402\u001b[0m                 \u001b[0mthis\u001b[0m \u001b[0;34m+=\u001b[0m \u001b[0margs\u001b[0m\u001b[0;34m[\u001b[0m\u001b[0;36m0\u001b[0m\u001b[0;34m]\u001b[0m\u001b[0;34m,\u001b[0m\u001b[0;34m\u001b[0m\u001b[0m\n\u001b[1;32m    403\u001b[0m                 \u001b[0margs\u001b[0m \u001b[0;34m=\u001b[0m \u001b[0margs\u001b[0m\u001b[0;34m[\u001b[0m\u001b[0;36m1\u001b[0m\u001b[0;34m:\u001b[0m\u001b[0;34m]\u001b[0m\u001b[0;34m\u001b[0m\u001b[0m\n\u001b[0;32m--> 404\u001b[0;31m             \u001b[0;32mfor\u001b[0m \u001b[0mseg\u001b[0m \u001b[0;32min\u001b[0m \u001b[0mself\u001b[0m\u001b[0;34m.\u001b[0m\u001b[0m_plot_args\u001b[0m\u001b[0;34m(\u001b[0m\u001b[0mthis\u001b[0m\u001b[0;34m,\u001b[0m \u001b[0mkwargs\u001b[0m\u001b[0;34m)\u001b[0m\u001b[0;34m:\u001b[0m\u001b[0;34m\u001b[0m\u001b[0m\n\u001b[0m\u001b[1;32m    405\u001b[0m                 \u001b[0;32myield\u001b[0m \u001b[0mseg\u001b[0m\u001b[0;34m\u001b[0m\u001b[0m\n\u001b[1;32m    406\u001b[0m \u001b[0;34m\u001b[0m\u001b[0m\n",
      "\u001b[0;32m/anaconda2/lib/python2.7/site-packages/matplotlib/axes/_base.pyc\u001b[0m in \u001b[0;36m_plot_args\u001b[0;34m(self, tup, kwargs)\u001b[0m\n\u001b[1;32m    382\u001b[0m             \u001b[0mx\u001b[0m\u001b[0;34m,\u001b[0m \u001b[0my\u001b[0m \u001b[0;34m=\u001b[0m \u001b[0mindex_of\u001b[0m\u001b[0;34m(\u001b[0m\u001b[0mtup\u001b[0m\u001b[0;34m[\u001b[0m\u001b[0;34m-\u001b[0m\u001b[0;36m1\u001b[0m\u001b[0;34m]\u001b[0m\u001b[0;34m)\u001b[0m\u001b[0;34m\u001b[0m\u001b[0m\n\u001b[1;32m    383\u001b[0m \u001b[0;34m\u001b[0m\u001b[0m\n\u001b[0;32m--> 384\u001b[0;31m         \u001b[0mx\u001b[0m\u001b[0;34m,\u001b[0m \u001b[0my\u001b[0m \u001b[0;34m=\u001b[0m \u001b[0mself\u001b[0m\u001b[0;34m.\u001b[0m\u001b[0m_xy_from_xy\u001b[0m\u001b[0;34m(\u001b[0m\u001b[0mx\u001b[0m\u001b[0;34m,\u001b[0m \u001b[0my\u001b[0m\u001b[0;34m)\u001b[0m\u001b[0;34m\u001b[0m\u001b[0m\n\u001b[0m\u001b[1;32m    385\u001b[0m \u001b[0;34m\u001b[0m\u001b[0m\n\u001b[1;32m    386\u001b[0m         \u001b[0;32mif\u001b[0m \u001b[0mself\u001b[0m\u001b[0;34m.\u001b[0m\u001b[0mcommand\u001b[0m \u001b[0;34m==\u001b[0m \u001b[0;34m'plot'\u001b[0m\u001b[0;34m:\u001b[0m\u001b[0;34m\u001b[0m\u001b[0m\n",
      "\u001b[0;32m/anaconda2/lib/python2.7/site-packages/matplotlib/axes/_base.pyc\u001b[0m in \u001b[0;36m_xy_from_xy\u001b[0;34m(self, x, y)\u001b[0m\n\u001b[1;32m    244\u001b[0m         \u001b[0;32mif\u001b[0m \u001b[0mx\u001b[0m\u001b[0;34m.\u001b[0m\u001b[0mndim\u001b[0m \u001b[0;34m>\u001b[0m \u001b[0;36m2\u001b[0m \u001b[0;32mor\u001b[0m \u001b[0my\u001b[0m\u001b[0;34m.\u001b[0m\u001b[0mndim\u001b[0m \u001b[0;34m>\u001b[0m \u001b[0;36m2\u001b[0m\u001b[0;34m:\u001b[0m\u001b[0;34m\u001b[0m\u001b[0m\n\u001b[1;32m    245\u001b[0m             raise ValueError(\"x and y can be no greater than 2-D, but have \"\n\u001b[0;32m--> 246\u001b[0;31m                              \"shapes {} and {}\".format(x.shape, y.shape))\n\u001b[0m\u001b[1;32m    247\u001b[0m \u001b[0;34m\u001b[0m\u001b[0m\n\u001b[1;32m    248\u001b[0m         \u001b[0;32mif\u001b[0m \u001b[0mx\u001b[0m\u001b[0;34m.\u001b[0m\u001b[0mndim\u001b[0m \u001b[0;34m==\u001b[0m \u001b[0;36m1\u001b[0m\u001b[0;34m:\u001b[0m\u001b[0;34m\u001b[0m\u001b[0m\n",
      "\u001b[0;31mValueError\u001b[0m: x and y can be no greater than 2-D, but have shapes (2,) and (2, 1, 12)"
     ]
    }
   ],
   "source": [
    "# Plot result\n",
    "import matplotlib.pyplot as plt\n",
    "from itertools import cycle\n",
    "\n",
    "plt.close('all')\n",
    "plt.figure(1)\n",
    "plt.clf()\n",
    "\n",
    "colors = cycle('bgrcmykbgrcmykbgrcmykbgrcmyk')\n",
    "for k, col in zip(range(n_clusters_), colors):\n",
    "    print(k)\n",
    "    class_members = labels == k\n",
    "    print(class_members)\n",
    "    cluster_center = X[cluster_centers_indices[k]]\n",
    "    print(cluster\n",
    "    plt.plot(X[class_members, 0], X[class_members, 1], col + '.')\n",
    "    plt.plot(cluster_center[0], cluster_center[1], 'o', markerfacecolor=col,\n",
    "             markeredgecolor='k', markersize=14)\n",
    "    for x in X[class_members]:\n",
    "        plt.plot([cluster_center[0], x[0]], [cluster_center[1], x[1]], col)\n",
    "\n",
    "plt.title('Estimated number of clusters: %d' % n_clusters_)\n",
    "plt.show()"
   ]
  },
  {
   "cell_type": "code",
   "execution_count": 65,
   "metadata": {},
   "outputs": [
    {
     "data": {
      "text/plain": [
       "72"
      ]
     },
     "execution_count": 65,
     "metadata": {},
     "output_type": "execute_result"
    }
   ],
   "source": [
    "n_clusters_ "
   ]
  },
  {
   "cell_type": "code",
   "execution_count": 68,
   "metadata": {},
   "outputs": [
    {
     "data": {
      "text/plain": [
       "(1, 12)"
      ]
     },
     "execution_count": 68,
     "metadata": {},
     "output_type": "execute_result"
    }
   ],
   "source": [
    "cluster_center.shape\n"
   ]
  },
  {
   "cell_type": "code",
   "execution_count": 67,
   "metadata": {},
   "outputs": [
    {
     "data": {
      "text/plain": [
       "array([False, False, False, False, False,  True, False, False, False,\n",
       "       False, False, False, False, False, False, False, False, False,\n",
       "       False, False, False, False, False,  True, False, False, False,\n",
       "       False, False, False, False, False, False, False, False, False,\n",
       "       False, False, False, False, False, False, False, False, False,\n",
       "       False, False, False, False, False, False, False, False,  True,\n",
       "       False, False, False, False, False, False, False, False, False,\n",
       "       False, False, False, False, False, False, False, False, False,\n",
       "       False, False, False, False, False, False, False, False, False,\n",
       "       False, False, False, False, False, False, False, False, False,\n",
       "       False, False, False, False, False, False, False, False, False,\n",
       "       False, False, False, False, False, False, False, False, False,\n",
       "       False, False, False,  True, False, False, False, False, False,\n",
       "       False, False, False, False, False,  True, False, False, False,\n",
       "       False, False, False, False, False, False, False,  True, False,\n",
       "       False, False, False, False, False, False, False, False, False,\n",
       "       False, False, False, False, False, False, False, False, False,\n",
       "       False, False, False, False, False, False, False, False, False,\n",
       "       False, False, False, False, False, False, False, False, False,\n",
       "       False, False, False, False, False, False, False, False, False,\n",
       "       False, False, False, False, False, False, False, False, False,\n",
       "       False, False, False, False, False, False, False, False, False,\n",
       "       False, False, False, False, False, False, False, False, False,\n",
       "       False, False, False, False, False, False, False, False, False,\n",
       "       False, False, False, False, False, False, False, False, False,\n",
       "       False, False, False, False, False, False, False, False, False,\n",
       "       False, False, False, False, False, False, False, False, False,\n",
       "        True, False, False, False, False, False, False, False, False,\n",
       "       False, False, False, False, False, False, False, False, False,\n",
       "       False, False, False, False, False, False, False, False, False,\n",
       "       False, False, False, False, False, False, False, False, False,\n",
       "       False, False, False, False, False, False, False, False, False,\n",
       "       False, False, False, False, False, False, False, False, False,\n",
       "       False, False, False, False,  True, False, False, False, False,\n",
       "       False, False, False, False, False, False, False, False, False,\n",
       "       False, False, False, False, False, False, False, False, False,\n",
       "       False, False, False, False, False, False, False, False,  True,\n",
       "       False, False, False, False, False, False,  True, False, False,\n",
       "       False, False, False, False, False, False, False, False, False,\n",
       "       False, False, False, False, False, False, False, False, False,\n",
       "       False, False, False, False, False, False, False, False, False,\n",
       "       False, False, False, False, False, False, False, False, False,\n",
       "       False, False, False, False, False, False, False, False, False,\n",
       "       False, False, False, False, False, False, False, False, False,\n",
       "       False, False, False, False, False, False, False, False, False,\n",
       "       False, False, False, False, False, False, False, False, False,\n",
       "       False, False, False, False, False, False, False, False, False,\n",
       "       False, False, False,  True, False, False, False, False, False,\n",
       "       False, False, False, False, False, False, False, False, False,\n",
       "       False, False, False, False, False, False, False, False, False,\n",
       "       False, False, False,  True, False, False, False, False, False,\n",
       "       False, False, False, False,  True, False, False, False, False,\n",
       "       False, False, False, False, False, False, False, False, False,\n",
       "       False,  True, False, False, False, False, False, False, False,\n",
       "       False, False, False, False, False, False, False, False, False,\n",
       "       False, False, False, False, False, False, False, False, False,\n",
       "       False,  True, False, False, False, False, False, False, False,\n",
       "       False, False, False, False, False, False, False, False, False,\n",
       "       False, False, False, False, False, False, False, False, False,\n",
       "       False, False, False, False, False, False, False, False, False,\n",
       "       False, False, False, False, False, False, False, False, False,\n",
       "       False, False, False, False, False, False, False, False, False,\n",
       "       False, False, False, False, False, False, False, False, False,\n",
       "       False, False, False, False, False, False, False, False, False,\n",
       "       False, False, False, False, False, False, False, False, False,\n",
       "       False, False, False, False, False, False, False, False, False,\n",
       "       False, False, False, False, False, False, False,  True, False,\n",
       "       False,  True, False, False, False, False, False, False, False,\n",
       "       False, False, False, False, False, False, False, False, False,\n",
       "       False, False, False, False, False, False, False, False, False,\n",
       "       False, False, False, False,  True, False, False, False, False,\n",
       "       False, False, False, False, False, False, False, False, False,\n",
       "       False, False, False, False, False, False, False, False, False,\n",
       "       False, False, False, False, False, False,  True, False, False,\n",
       "       False, False, False, False, False, False, False, False, False,\n",
       "       False, False, False, False, False, False, False, False, False,\n",
       "       False, False, False, False, False, False, False, False, False,\n",
       "       False, False, False, False, False, False, False, False, False,\n",
       "       False, False, False, False, False, False, False, False, False,\n",
       "       False, False, False, False, False, False, False, False, False,\n",
       "       False,  True, False, False, False, False, False, False, False,\n",
       "       False, False, False, False, False, False, False, False, False,\n",
       "       False, False, False, False, False, False, False, False, False,\n",
       "       False, False, False, False, False, False, False, False,  True,\n",
       "       False, False, False,  True, False, False, False, False, False,\n",
       "       False,  True, False, False, False, False, False, False, False,\n",
       "       False, False, False, False, False, False, False, False,  True,\n",
       "       False, False, False, False, False, False, False, False, False,\n",
       "       False, False, False, False, False, False, False, False, False,\n",
       "        True, False, False, False, False, False, False, False, False,\n",
       "       False, False, False, False, False, False, False, False, False,\n",
       "       False, False, False, False, False, False, False, False, False,\n",
       "       False, False, False, False, False, False, False, False, False,\n",
       "       False, False, False, False, False, False, False, False, False,\n",
       "       False, False, False, False, False, False, False, False, False,\n",
       "       False, False, False, False, False, False, False, False, False,\n",
       "       False, False, False, False, False,  True, False, False, False,\n",
       "       False, False, False, False, False, False, False, False, False,\n",
       "       False, False, False, False, False, False, False, False, False,\n",
       "       False, False, False, False, False, False, False,  True, False,\n",
       "       False, False, False], dtype=bool)"
      ]
     },
     "execution_count": 67,
     "metadata": {},
     "output_type": "execute_result"
    }
   ],
   "source": [
    "class_members"
   ]
  },
  {
   "cell_type": "code",
   "execution_count": 72,
   "metadata": {},
   "outputs": [
    {
     "data": {
      "text/plain": [
       "[0,\n",
       " 1,\n",
       " 2,\n",
       " 3,\n",
       " 4,\n",
       " 5,\n",
       " 6,\n",
       " 7,\n",
       " 8,\n",
       " 9,\n",
       " 10,\n",
       " 11,\n",
       " 12,\n",
       " 13,\n",
       " 14,\n",
       " 15,\n",
       " 16,\n",
       " 17,\n",
       " 18,\n",
       " 19,\n",
       " 20,\n",
       " 21,\n",
       " 22,\n",
       " 23,\n",
       " 24,\n",
       " 25,\n",
       " 26,\n",
       " 27,\n",
       " 28,\n",
       " 29,\n",
       " 30,\n",
       " 31,\n",
       " 32,\n",
       " 33,\n",
       " 34,\n",
       " 35,\n",
       " 36,\n",
       " 37,\n",
       " 38,\n",
       " 39,\n",
       " 40,\n",
       " 41,\n",
       " 42,\n",
       " 43,\n",
       " 44,\n",
       " 45,\n",
       " 46,\n",
       " 47,\n",
       " 48,\n",
       " 49,\n",
       " 50,\n",
       " 51,\n",
       " 52,\n",
       " 53,\n",
       " 54,\n",
       " 55,\n",
       " 56,\n",
       " 57,\n",
       " 58,\n",
       " 59,\n",
       " 60,\n",
       " 61,\n",
       " 62,\n",
       " 63,\n",
       " 64,\n",
       " 65,\n",
       " 66,\n",
       " 67,\n",
       " 68,\n",
       " 69,\n",
       " 70,\n",
       " 71]"
      ]
     },
     "execution_count": 72,
     "metadata": {},
     "output_type": "execute_result"
    }
   ],
   "source": [
    "range(n_clusters_)"
   ]
  },
  {
   "cell_type": "code",
   "execution_count": 74,
   "metadata": {},
   "outputs": [
    {
     "data": {
      "text/plain": [
       "[(0, 'r'),\n",
       " (1, 'c'),\n",
       " (2, 'm'),\n",
       " (3, 'y'),\n",
       " (4, 'k'),\n",
       " (5, 'b'),\n",
       " (6, 'g'),\n",
       " (7, 'r'),\n",
       " (8, 'c'),\n",
       " (9, 'm'),\n",
       " (10, 'y'),\n",
       " (11, 'k'),\n",
       " (12, 'b'),\n",
       " (13, 'g'),\n",
       " (14, 'r'),\n",
       " (15, 'c'),\n",
       " (16, 'm'),\n",
       " (17, 'y'),\n",
       " (18, 'k'),\n",
       " (19, 'b'),\n",
       " (20, 'g'),\n",
       " (21, 'r'),\n",
       " (22, 'c'),\n",
       " (23, 'm'),\n",
       " (24, 'y'),\n",
       " (25, 'k'),\n",
       " (26, 'b'),\n",
       " (27, 'g'),\n",
       " (28, 'r'),\n",
       " (29, 'c'),\n",
       " (30, 'm'),\n",
       " (31, 'y'),\n",
       " (32, 'k'),\n",
       " (33, 'b'),\n",
       " (34, 'g'),\n",
       " (35, 'r'),\n",
       " (36, 'c'),\n",
       " (37, 'm'),\n",
       " (38, 'y'),\n",
       " (39, 'k'),\n",
       " (40, 'b'),\n",
       " (41, 'g'),\n",
       " (42, 'r'),\n",
       " (43, 'c'),\n",
       " (44, 'm'),\n",
       " (45, 'y'),\n",
       " (46, 'k'),\n",
       " (47, 'b'),\n",
       " (48, 'g'),\n",
       " (49, 'r'),\n",
       " (50, 'c'),\n",
       " (51, 'm'),\n",
       " (52, 'y'),\n",
       " (53, 'k'),\n",
       " (54, 'b'),\n",
       " (55, 'g'),\n",
       " (56, 'r'),\n",
       " (57, 'c'),\n",
       " (58, 'm'),\n",
       " (59, 'y'),\n",
       " (60, 'k'),\n",
       " (61, 'b'),\n",
       " (62, 'g'),\n",
       " (63, 'r'),\n",
       " (64, 'c'),\n",
       " (65, 'm'),\n",
       " (66, 'y'),\n",
       " (67, 'k'),\n",
       " (68, 'b'),\n",
       " (69, 'g'),\n",
       " (70, 'r'),\n",
       " (71, 'c')]"
      ]
     },
     "execution_count": 74,
     "metadata": {},
     "output_type": "execute_result"
    }
   ],
   "source": [
    "zip(range(n_clusters_), colors)\n"
   ]
  },
  {
   "cell_type": "code",
   "execution_count": 75,
   "metadata": {},
   "outputs": [
    {
     "data": {
      "text/plain": [
       "'b'"
      ]
     },
     "execution_count": 75,
     "metadata": {},
     "output_type": "execute_result"
    }
   ],
   "source": [
    "col"
   ]
  },
  {
   "cell_type": "code",
   "execution_count": null,
   "metadata": {},
   "outputs": [],
   "source": []
  }
 ],
 "metadata": {
  "kernelspec": {
   "display_name": "Python 2",
   "language": "python",
   "name": "python2"
  },
  "language_info": {
   "codemirror_mode": {
    "name": "ipython",
    "version": 2
   },
   "file_extension": ".py",
   "mimetype": "text/x-python",
   "name": "python",
   "nbconvert_exporter": "python",
   "pygments_lexer": "ipython2",
   "version": "2.7.14"
  }
 },
 "nbformat": 4,
 "nbformat_minor": 2
}
